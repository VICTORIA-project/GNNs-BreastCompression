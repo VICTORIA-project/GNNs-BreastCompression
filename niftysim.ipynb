{
 "cells": [
  {
   "cell_type": "code",
   "execution_count": null,
   "metadata": {
    "vscode": {
     "languageId": "shellscript"
    }
   },
   "outputs": [],
   "source": [
    "# Setting the Working Directory to the Notebook's Path",
    "\n",
    "import os",
    "from pathlib import Path",
    "\n",
    "# Get the directory of the current notebook",
    "notebook_path = Path().resolve()",
    "os.chdir(notebook_path)",
    "\n",
    "# Confirm the current working directory",
    "print("Current working directory:", os.getcwd())"
   ]
  },
  {
   "cell_type": "code",
   "execution_count": 2,
   "metadata": {
    "vscode": {
     "languageId": "shellscript"
    }
   },
   "outputs": [],
   "source": [
    "case_number = 3"
   ]
  },
  {
   "cell_type": "markdown",
   "metadata": {},
   "source": [
    "Generate the mesh for FE model"
   ]
  },
  {
   "cell_type": "code",
   "execution_count": null,
   "metadata": {
    "vscode": {
     "languageId": "shellscript"
    }
   },
   "outputs": [],
   "source": [
    "!python FEA-simualtions/mesh.py -i uncompressed_nrrd/UncompressedBreast{case_number}_resampled.nrrd -o uncompressed_nrrd/volmesh{case_number}.vtk"
   ]
  },
  {
   "cell_type": "markdown",
   "metadata": {},
   "source": [
    "Create XML file from the mesh an as input for the Niftysim Dockerfile"
   ]
  },
  {
   "cell_type": "code",
   "execution_count": 4,
   "metadata": {
    "vscode": {
     "languageId": "shellscript"
    }
   },
   "outputs": [],
   "source": [
    "# Based on the metadata of the corresponding compresssed phantom, the desired thickness is 65.0704 in the y-axis. This would be the final compressioon state no. 30.\n",
    "\n",
    "!python FEA-simualtions/writeNiftyModel.py -meshpath uncompressed_nrrd/volmesh{case_number}.vtk -output uncompressed_nrrd/volmesh{case_number}-model.xml -thickness 65.0704 -gravity 4905 -offset 15.0 -material NH -anisotropyRatio 0.0"
   ]
  },
  {
   "cell_type": "markdown",
   "metadata": {},
   "source": [
    "Running the Niftysim Docker Container to run the simulation"
   ]
  },
  {
   "cell_type": "code",
   "execution_count": null,
   "metadata": {
    "vscode": {
     "languageId": "shellscript"
    }
   },
   "outputs": [],
   "source": [
    "'''Update the -v path !!'''\n",
    "\n",
    "# Run Docker container with GPU support, mounting a volume, and using an interactive terminal\n",
    "!docker run --name niftysim_container --gpus all -v /home/hadeel/GNNs-BreastCompression/uncompressed_nrrd:/home/data -d niftysim:2.5 tail -f /dev/null\n",
    "!docker ps\n",
    "# All nodal displacements\n",
    "# For each step you have to store the nodal displacemnet manually\n",
    "!docker exec niftysim_container /bin/bash -c \"cd /home/niftysim/release/source && ./niftysim -x /home/data/volmesh{case_number}-model.xml -t -v -sport -print ND -device 0 -export-mesh /home/data/output/volmesh{case_number}_niftysim.vtk\"\n",
    "\n",
    "!docker stop niftysim_container\n",
    "!docker rm niftysim_container"
   ]
  },
  {
   "cell_type": "markdown",
   "metadata": {},
   "source": [
    "Get the compressed phantom from the output of Niftysim Docker container"
   ]
  },
  {
   "cell_type": "code",
   "execution_count": null,
   "metadata": {
    "vscode": {
     "languageId": "shellscript"
    }
   },
   "outputs": [],
   "source": [
    "!python FEA-simualtions/extract_compressed_mesh.py uncompressed_nrrd/output/volmesh{case_number}_niftysim.vtk uncompressed_nrrd/output/volmesh{case_number}_compressed.vtk"
   ]
  },
  {
   "cell_type": "markdown",
   "metadata": {},
   "source": [
    "Reconstruct the NRRD image from the compressed phantom mesh"
   ]
  },
  {
   "cell_type": "code",
   "execution_count": null,
   "metadata": {
    "vscode": {
     "languageId": "shellscript"
    }
   },
   "outputs": [],
   "source": [
    "'''Update the -v path !!'''\n",
    "\n",
    "# Run Docker container with GPU support, mounting a volume, and using an interactive terminal\n",
    "!docker run --name reconstruct_container --gpus all -v /home/hadeel/GNNs-BreastCompression/uncompressed_nrrd:/home/data -d reconstruct-image:latest tail -f /dev/null\n",
    "\n",
    "!docker ps\n",
    "\n",
    "!docker exec reconstruct_container /bin/bash -c \"cd /home/ReconstructImage/release && ./ReconstructImage /home/data/volmesh{case_number}.vtk /home/data/output/volmesh{case_number}_compressed.vtk /home/data/UncompressedBreast{case_number}_resampled.nrrd /home/data/output/compressedPhantom{case_number}.nrrd\"\n",
    "\n",
    "!docker stop reconstruct_container\n",
    "!docker rm reconstruct_container"
   ]
  }
 ],
 "metadata": {
  "kernelspec": {
   "display_name": "mesh",
   "language": "python",
   "name": "python3"
  },
  "language_info": {
   "codemirror_mode": {
    "name": "ipython",
    "version": 3
   },
   "file_extension": ".py",
   "mimetype": "text/x-python",
   "name": "python",
   "nbconvert_exporter": "python",
   "pygments_lexer": "ipython3",
   "version": "3.10.15"
  }
 },
 "nbformat": 4,
 "nbformat_minor": 2
}
