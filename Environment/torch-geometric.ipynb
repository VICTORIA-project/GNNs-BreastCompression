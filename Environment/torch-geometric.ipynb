{
 "cells": [
  {
   "cell_type": "markdown",
   "metadata": {
    "id": "n6OLsMgB9xKr"
   },
   "source": [
    "# Initialization\n"
   ]
  },
  {
   "cell_type": "code",
   "execution_count": null,
   "metadata": {},
   "outputs": [],
   "source": [
    "import torch\n",
    "import sys\n",
    "\n",
    "TORCH = torch.__version__.split(\"+\")[0]\n",
    "CUDA_OR_CPU = (\"cu\" + torch.version.cuda.replace(\".\",\"\")\n",
    "               if(torch.version.cuda is not None)\n",
    "               else\n",
    "               \"cpu\"\n",
    "              )\n",
    "\n",
    "#Note that the package (i.e. library) called 'torhc_cluster' which in the past had to be installed in order for\n",
    "#    package (i.e. library) 'torch_geometric' to work properly, is no longer needed (so don't install it).\n",
    "!{sys.executable} -m pip install torch-scatter -f https://data.pyg.org/whl/torch-2.0.1+cu117.html\n",
    "!{sys.executable} -m pip install torch-sparse -f https://data.pyg.org/whl/torch-2.0.1+cu117.html\n",
    "!{sys.executable} -m pip install  torch-spline-conv -f https://data.pyg.org/whl/torch-2.0.1+cu117.html\n",
    "!{sys.executable} -m pip install torch-geometric -f https://data.pyg.org/whl/torch-2.0.1+cu117.html"
   ]
  },
  {
   "cell_type": "code",
   "execution_count": null,
   "metadata": {
    "id": "6PzQa4nBFZv1"
   },
   "outputs": [],
   "source": [
    "gpu_info = !nvidia-smi\n",
    "gpu_info = '\\n'.join(gpu_info)\n",
    "print(gpu_info)"
   ]
  },
  {
   "cell_type": "code",
   "execution_count": null,
   "metadata": {},
   "outputs": [],
   "source": [
    "import tensorflow as tf\n",
    "print(\"tensorflow version has to be 2.10.0\")\n",
    "print(tf.__version__)\n",
    "\n",
    "import numpy as np\n",
    "print(\"numpy version has to be 1.23.5\")\n",
    "print(np.__version__)\n",
    "\n",
    "import torch\n",
    "print(\"torch version has to be 2.0.1\")\n",
    "print(torch.__version__)\n",
    "\n",
    "# Print CUDA/CUDNN version\n",
    "print(\"Built with CUDA:\", tf.test.is_built_with_cuda())\n",
    "print(\"CUDA version:\", tf.sysconfig.get_build_info()[\"cuda_version\"])\n",
    "print(\"cuDNN version:\", tf.sysconfig.get_build_info()[\"cudnn_version\"])"
   ]
  }
 ],
 "metadata": {
  "accelerator": "GPU",
  "colab": {
   "authorship_tag": "ABX9TyOW/EhWok4oAuzWGQR4dmWA",
   "collapsed_sections": [
    "n6OLsMgB9xKr",
    "pkf9vx6lXom4",
    "D4O_TNMc91_d",
    "AXDJVudFDJNL",
    "momkH5ONC-0J",
    "DSri18MsCs42",
    "F0b4jrDzCjx8",
    "6_Eii4TqCSkI",
    "8VxsLOrPCI6m",
    "DlS8RzY-CAoh",
    "pmT97UrCB2j9",
    "P2TrDBKACdPR",
    "qs4S-h2C32Zs",
    "2fgfWYk4-fM1",
    "6HnFr9_7BuMB",
    "GH-VDv8FBc4d",
    "GFEf8O_sAR9y",
    "nOBmluPm-fFL",
    "Bs7x1OwM-mcZ",
    "vtPIP85e-suR",
    "thPP8i75HOIr",
    "ma0wDlBLnlgg",
    "Y3uGgN0gnrB4",
    "xBzdaJLO_H3q",
    "K03gD1VDrCTq",
    "WkCEhHtP_RjI"
   ],
   "machine_shape": "hm",
   "name": "Copy of Dataset_Generation_V2.ipynb",
   "provenance": [],
   "toc_visible": true
  },
  "kernelspec": {
   "display_name": "Python 3",
   "name": "python3"
  },
  "language_info": {
   "codemirror_mode": {
    "name": "ipython",
    "version": 3
   },
   "file_extension": ".py",
   "mimetype": "text/x-python",
   "name": "python",
   "nbconvert_exporter": "python",
   "pygments_lexer": "ipython3",
   "version": "3.10.15"
  }
 },
 "nbformat": 4,
 "nbformat_minor": 0
}
